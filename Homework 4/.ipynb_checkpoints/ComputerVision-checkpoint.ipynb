{
 "metadata": {
  "name": ""
 },
 "nbformat": 3,
 "nbformat_minor": 0,
 "worksheets": [
  {
   "cells": [
    {
     "cell_type": "code",
     "collapsed": false,
     "input": [
      "#%%file computerVisionMethods.py\n",
      "\n",
      "class imageToClassify:\n",
      "    \n",
      "    '''\n",
      "    This class takes an image to be operated on and the member functions compute image characteristics.\n",
      "    \n",
      "    Member functions:\n",
      "    \n",
      "        imageToClassify.colors(color):\n",
      "            'color' is a string that chooses which color layer (RGB) to return and the return is an array containing the layer requested\n",
      "            \n",
      "        imageToClassify.shape():\n",
      "            Returns the shape of the image in 3 dimensions\n",
      "            \n",
      "        imageToClassify.cross_corr():\n",
      "            Returns a 3D array of cross correlations between each of the color layers in the order RG, RB, GB.\n",
      "            \n",
      "        imageToClassify.corner_det():\n",
      "            Corner detection in the image.  Returns an array of tuples with the locations of corners.\n",
      "    '''\n",
      "    \n",
      "    def __init__(self,image):\n",
      "        \n",
      "        import numpy as np\n",
      "        \n",
      "        self.image_raw = image\n",
      "        if len(np.shape(self.image_raw)) == 3:\n",
      "            self.image_flat = np.median(self.image_raw,axis=2)\n",
      "        else:\n",
      "            self.image_flat = self.image_raw\n",
      "        self.sz = 0.\n",
      "        \n",
      "    def colors(self,color):\n",
      "        \n",
      "        '''Returns the RGB layers of the image based on the color flag.  'Color' can be 'r' or 'red', 'g' or 'green',\n",
      "        'b' or 'blue'.'''\n",
      "        \n",
      "        import numpy as np\n",
      "        \n",
      "        reds = self.image_raw[...,0]\n",
      "        greens = self.image_raw[...,1]\n",
      "        blues = self.image_raw[...,2]\n",
      "        \n",
      "        if color == 'red' or color == 'r':\n",
      "            return np.mean(reds)\n",
      "        elif color == 'g' or color == 'green':\n",
      "            return np.mean(greens)\n",
      "        elif color == 'b' or color == 'bue':\n",
      "            return np.mean(blues)\n",
      "        \n",
      "    def size(self):\n",
      "        \n",
      "        '''Returns a tuple of the shape of the image array, in 3-dimensions.'''\n",
      "        \n",
      "        shp = np.shape(self.image_raw)\n",
      "        sz = 1\n",
      "        for dimsize in shp:\n",
      "            sz *= dimsize\n",
      "        self.sz = sz\n",
      "        return self.sz\n",
      "    \n",
      "    def cross_corr(self,color):\n",
      "        \n",
      "        '''Computes and returns the cross correlation of the three color channels as an array.'''\n",
      "        \n",
      "        import scipy.signal as sg\n",
      "        import numpy as np\n",
      "        \n",
      "        if self.image_raw == self.image_flat:\n",
      "            corr = np.max(sg.fftconvolve(self.image_flat[:,:,0],self.image_flat[::-1,::-1,0],mode = 'same'))/self.sz\n",
      "        else:\n",
      "            if color == 'rg':\n",
      "                corr = np.max(sg.fftconvolve(self.image_raw[:,:,0],self.image_raw[::-1,::-1,1],mode = 'same'))/self.sz\n",
      "            elif color == 'rb':\n",
      "                corr = np.max(sg.fftconvolve(self.image_raw[:,:,0],self.image_raw[::-1,::-1,2],mode = 'same'))/self.sz\n",
      "            elif color == 'gb':\n",
      "                corr = np.max(sg.fftconvolve(self.image_raw[:,:,1],self.image_raw[::-1,::-1,2],mode = 'same'))/self.sz\n",
      "        \n",
      "        return corr\n",
      "    \n",
      "    def corner_det(self):\n",
      "        \n",
      "        '''Finds corners within the image and returns the locations of the detected corners.'''\n",
      "        \n",
      "        import skimage.feature as ft\n",
      "        \n",
      "        corners = ft.corner_foerstner(self.image_flat)\n",
      "        \n",
      "        return len(corners)\n",
      "    \n",
      "    def extract_hog(self):\n",
      "        \n",
      "        '''Returns the histogram of oriented gradients for the image.'''\n",
      "        \n",
      "        import skimage.feature as ft\n",
      "        import numpy as np\n",
      "        \n",
      "        hg = ft.hog(self.image_flat)\n",
      "        hg_hist = plt.hist(hg,bins=1000)[0][0]/self.sz\n",
      "        return hg_hist\n",
      "    \n",
      "    def extract_canny(self):\n",
      "        \n",
      "        '''Returns the number of edges as calculated with a canny filter.'''\n",
      "        \n",
      "        import skimage.filter as ft\n",
      "        \n",
      "        can = ft.canny(self.image_flat)\n",
      "        sum_can = np.sum(can)\n",
      "        \n",
      "        return sum_can\n",
      "    \n",
      "    def horiz_edge(self):\n",
      "        \n",
      "        '''Returns the '''\n",
      "        \n",
      "        import skimage.filter as ft\n",
      "        \n",
      "        horiz_sobel = ft.hsobel(self.image_flat)\n",
      "        \n",
      "        return float((horiz_sobel > horiz_sobel.mean()*2).sum())/float(self.sz)\n",
      "    \n",
      "    def vert_edge(self):\n",
      "        \n",
      "        '''Returns the '''\n",
      "        \n",
      "        import skimage.filter as ft\n",
      "        \n",
      "        vert_sobel = ft.vsobel(self.image_flat)\n",
      "        \n",
      "        return float((vert_sobel > vert_sobel.mean()*2).sum())/float(self.sz)\n",
      "        \n",
      "    def delete_im(self):\n",
      "        \n",
      "        del(self.image_raw)\n",
      "        del(self.image_flat)\n",
      "    \n",
      "\n",
      "import os\n",
      "import os.path\n",
      "import scipy.ndimage as img\n",
      "import sklearn as skl\n",
      "from sklearn.ensemble import RandomForestClassifier\n",
      "from sklearn import metrics\n",
      "import skimage.data as skiData\n",
      "import numpy as np\n",
      "\n",
      "path = os.getcwd()\n",
      "path += '/50_categories/'\n",
      "features = []\n",
      "i = 0\n",
      "\n",
      "for dirs in os.listdir(path):\n",
      "    if dirs[0] != '.':\n",
      "        cat_path = path + dirs +'/'\n",
      "        print 'Loading files from path:', cat_path\n",
      "        for files in os.listdir(cat_path):\n",
      "            if files[0] != '.' and os.path.isfile(cat_path+'/'+files):\n",
      "                i += 1\n",
      "                im_path = cat_path + '/' + files\n",
      "                im = skiData.imread(im_path)\n",
      "                im_obj = imageToClassify(im)\n",
      "                features.append([dirs,im_obj.size(),im_obj.colors('r'),im_obj.colors('g'),im_obj.colors('b'),\\\n",
      "                                 im_obj.cross_corr('rg'),im_obj.cross_corr('rb'),im_obj.cross_corr('gb'),im_obj.extract_canny(),\\\n",
      "                                 im_obj.corner_det(),im_obj.vert_sobel(),im_obj.horiz_sobel()])\n",
      "                im_obj.delete_im()\n",
      "                \n",
      "trainSize = int(np.floor(0.9*np.shape(features)[0]))\n",
      "features_arr = np.array(features)\n",
      "np.random.shuffle(features_arr)\n",
      "y_train = features_arr[:trainSize,0]\n",
      "x_train = features_arr[:trainSize,1:]\n",
      "x_test = features_arr[trainSize:,1:]\n",
      "y_test = features_arr[trainSize:,0]\n",
      "rf1 = RandomForestClassifier(n_estimators=50,n_jobs=-1)\n",
      "rf1.fit(x_train,y_train)\n",
      "c_predict = rf1.predict(x_test)\n",
      "print 'The accuracy of the classifier is: ',metrics.accuracy_score(y_test,c_predict)"
     ],
     "language": "python",
     "metadata": {},
     "outputs": [
      {
       "output_type": "stream",
       "stream": "stdout",
       "text": [
        "Loading files from path: /Users/Anders/Documents/Courses/AY 250/Homework/Homework 4/50_categories/airplanes/\n",
        "Loading files from path:"
       ]
      },
      {
       "output_type": "stream",
       "stream": "stdout",
       "text": [
        " /Users/Anders/Documents/Courses/AY 250/Homework/Homework 4/50_categories/bat/\n",
        "Loading files from path:"
       ]
      },
      {
       "output_type": "stream",
       "stream": "stdout",
       "text": [
        " /Users/Anders/Documents/Courses/AY 250/Homework/Homework 4/50_categories/bear/\n",
        "Loading files from path:"
       ]
      },
      {
       "ename": "ValueError",
       "evalue": "The truth value of an array with more than one element is ambiguous. Use a.any() or a.all()",
       "output_type": "pyerr",
       "traceback": [
        "\u001b[0;31m---------------------------------------------------------------------------\u001b[0m\n\u001b[0;31mValueError\u001b[0m                                Traceback (most recent call last)",
        "\u001b[0;32m<ipython-input-62-42d0979b753e>\u001b[0m in \u001b[0;36m<module>\u001b[0;34m()\u001b[0m\n\u001b[1;32m    142\u001b[0m                 \u001b[0mim\u001b[0m \u001b[0;34m=\u001b[0m \u001b[0mskiData\u001b[0m\u001b[0;34m.\u001b[0m\u001b[0mimread\u001b[0m\u001b[0;34m(\u001b[0m\u001b[0mim_path\u001b[0m\u001b[0;34m)\u001b[0m\u001b[0;34m\u001b[0m\u001b[0m\n\u001b[1;32m    143\u001b[0m                 \u001b[0mim_obj\u001b[0m \u001b[0;34m=\u001b[0m \u001b[0mimageToClassify\u001b[0m\u001b[0;34m(\u001b[0m\u001b[0mim\u001b[0m\u001b[0;34m)\u001b[0m\u001b[0;34m\u001b[0m\u001b[0m\n\u001b[0;32m--> 144\u001b[0;31m                 \u001b[0mfeatures\u001b[0m\u001b[0;34m.\u001b[0m\u001b[0mappend\u001b[0m\u001b[0;34m(\u001b[0m\u001b[0;34m[\u001b[0m\u001b[0mdirs\u001b[0m\u001b[0;34m,\u001b[0m\u001b[0mim_obj\u001b[0m\u001b[0;34m.\u001b[0m\u001b[0msize\u001b[0m\u001b[0;34m(\u001b[0m\u001b[0;34m)\u001b[0m\u001b[0;34m,\u001b[0m\u001b[0mim_obj\u001b[0m\u001b[0;34m.\u001b[0m\u001b[0mcolors\u001b[0m\u001b[0;34m(\u001b[0m\u001b[0;34m'r'\u001b[0m\u001b[0;34m)\u001b[0m\u001b[0;34m,\u001b[0m\u001b[0mim_obj\u001b[0m\u001b[0;34m.\u001b[0m\u001b[0mcolors\u001b[0m\u001b[0;34m(\u001b[0m\u001b[0;34m'g'\u001b[0m\u001b[0;34m)\u001b[0m\u001b[0;34m,\u001b[0m\u001b[0mim_obj\u001b[0m\u001b[0;34m.\u001b[0m\u001b[0mcolors\u001b[0m\u001b[0;34m(\u001b[0m\u001b[0;34m'b'\u001b[0m\u001b[0;34m)\u001b[0m\u001b[0;34m,\u001b[0m                                 \u001b[0mim_obj\u001b[0m\u001b[0;34m.\u001b[0m\u001b[0mcross_corr\u001b[0m\u001b[0;34m(\u001b[0m\u001b[0;34m'rg'\u001b[0m\u001b[0;34m)\u001b[0m\u001b[0;34m,\u001b[0m\u001b[0mim_obj\u001b[0m\u001b[0;34m.\u001b[0m\u001b[0mcross_corr\u001b[0m\u001b[0;34m(\u001b[0m\u001b[0;34m'rb'\u001b[0m\u001b[0;34m)\u001b[0m\u001b[0;34m,\u001b[0m\u001b[0mim_obj\u001b[0m\u001b[0;34m.\u001b[0m\u001b[0mcross_corr\u001b[0m\u001b[0;34m(\u001b[0m\u001b[0;34m'gb'\u001b[0m\u001b[0;34m)\u001b[0m\u001b[0;34m,\u001b[0m\u001b[0mim_obj\u001b[0m\u001b[0;34m.\u001b[0m\u001b[0mextract_canny\u001b[0m\u001b[0;34m(\u001b[0m\u001b[0;34m)\u001b[0m\u001b[0;34m,\u001b[0m                                 \u001b[0mim_obj\u001b[0m\u001b[0;34m.\u001b[0m\u001b[0mcorner_det\u001b[0m\u001b[0;34m(\u001b[0m\u001b[0;34m)\u001b[0m\u001b[0;34m]\u001b[0m\u001b[0;34m)\u001b[0m\u001b[0;34m\u001b[0m\u001b[0m\n\u001b[0m\u001b[1;32m    145\u001b[0m                 \u001b[0mim_obj\u001b[0m\u001b[0;34m.\u001b[0m\u001b[0mdelete_im\u001b[0m\u001b[0;34m(\u001b[0m\u001b[0;34m)\u001b[0m\u001b[0;34m\u001b[0m\u001b[0m\n\u001b[1;32m    146\u001b[0m \u001b[0;34m\u001b[0m\u001b[0m\n",
        "\u001b[0;32m<ipython-input-62-42d0979b753e>\u001b[0m in \u001b[0;36mcross_corr\u001b[0;34m(self, color)\u001b[0m\n\u001b[1;32m     68\u001b[0m         \u001b[0;32mimport\u001b[0m \u001b[0mnumpy\u001b[0m \u001b[0;32mas\u001b[0m \u001b[0mnp\u001b[0m\u001b[0;34m\u001b[0m\u001b[0m\n\u001b[1;32m     69\u001b[0m \u001b[0;34m\u001b[0m\u001b[0m\n\u001b[0;32m---> 70\u001b[0;31m         \u001b[0;32mif\u001b[0m \u001b[0mself\u001b[0m\u001b[0;34m.\u001b[0m\u001b[0mimage_raw\u001b[0m \u001b[0;34m==\u001b[0m \u001b[0mself\u001b[0m\u001b[0;34m.\u001b[0m\u001b[0mimage_flat\u001b[0m\u001b[0;34m:\u001b[0m\u001b[0;34m\u001b[0m\u001b[0m\n\u001b[0m\u001b[1;32m     71\u001b[0m             \u001b[0mcorr\u001b[0m \u001b[0;34m=\u001b[0m \u001b[0mnp\u001b[0m\u001b[0;34m.\u001b[0m\u001b[0mmax\u001b[0m\u001b[0;34m(\u001b[0m\u001b[0msg\u001b[0m\u001b[0;34m.\u001b[0m\u001b[0mfftconvolve\u001b[0m\u001b[0;34m(\u001b[0m\u001b[0mself\u001b[0m\u001b[0;34m.\u001b[0m\u001b[0mimage_flat\u001b[0m\u001b[0;34m[\u001b[0m\u001b[0;34m:\u001b[0m\u001b[0;34m,\u001b[0m\u001b[0;34m:\u001b[0m\u001b[0;34m,\u001b[0m\u001b[0;36m0\u001b[0m\u001b[0;34m]\u001b[0m\u001b[0;34m,\u001b[0m\u001b[0mself\u001b[0m\u001b[0;34m.\u001b[0m\u001b[0mimage_flat\u001b[0m\u001b[0;34m[\u001b[0m\u001b[0;34m:\u001b[0m\u001b[0;34m:\u001b[0m\u001b[0;34m-\u001b[0m\u001b[0;36m1\u001b[0m\u001b[0;34m,\u001b[0m\u001b[0;34m:\u001b[0m\u001b[0;34m:\u001b[0m\u001b[0;34m-\u001b[0m\u001b[0;36m1\u001b[0m\u001b[0;34m,\u001b[0m\u001b[0;36m0\u001b[0m\u001b[0;34m]\u001b[0m\u001b[0;34m,\u001b[0m\u001b[0mmode\u001b[0m \u001b[0;34m=\u001b[0m \u001b[0;34m'same'\u001b[0m\u001b[0;34m)\u001b[0m\u001b[0;34m)\u001b[0m\u001b[0;34m/\u001b[0m\u001b[0mself\u001b[0m\u001b[0;34m.\u001b[0m\u001b[0msz\u001b[0m\u001b[0;34m\u001b[0m\u001b[0m\n\u001b[1;32m     72\u001b[0m         \u001b[0;32melse\u001b[0m\u001b[0;34m:\u001b[0m\u001b[0;34m\u001b[0m\u001b[0m\n",
        "\u001b[0;31mValueError\u001b[0m: The truth value of an array with more than one element is ambiguous. Use a.any() or a.all()"
       ]
      },
      {
       "output_type": "stream",
       "stream": "stdout",
       "text": [
        " /Users/Anders/Documents/Courses/AY 250/Homework/Homework 4/50_categories/blimp/\n"
       ]
      }
     ],
     "prompt_number": 62
    },
    {
     "cell_type": "code",
     "collapsed": false,
     "input": [],
     "language": "python",
     "metadata": {},
     "outputs": [
      {
       "output_type": "stream",
       "stream": "stdout",
       "text": [
        "0.00705882352941\n"
       ]
      }
     ],
     "prompt_number": 42
    },
    {
     "cell_type": "code",
     "collapsed": false,
     "input": [
      "print metrics.accuracy_score(y_test,c_predict)"
     ],
     "language": "python",
     "metadata": {},
     "outputs": []
    },
    {
     "cell_type": "code",
     "collapsed": false,
     "input": [
      "features_np = np.array(features)"
     ],
     "language": "python",
     "metadata": {},
     "outputs": [],
     "prompt_number": 22
    },
    {
     "cell_type": "code",
     "collapsed": false,
     "input": [
      "len(y_test)"
     ],
     "language": "python",
     "metadata": {},
     "outputs": [
      {
       "metadata": {},
       "output_type": "pyout",
       "prompt_number": 39,
       "text": [
        "425"
       ]
      }
     ],
     "prompt_number": 39
    },
    {
     "cell_type": "code",
     "collapsed": false,
     "input": [],
     "language": "python",
     "metadata": {},
     "outputs": []
    }
   ],
   "metadata": {}
  }
 ]
}