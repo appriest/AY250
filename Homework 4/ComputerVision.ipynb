{
 "metadata": {
  "name": ""
 },
 "nbformat": 3,
 "nbformat_minor": 0,
 "worksheets": [
  {
   "cells": [
    {
     "cell_type": "code",
     "collapsed": false,
     "input": [
      "%%file computerVisionMethods.py\n",
      "\n",
      "import sklearn as skl\n",
      "import skimage as ski\n",
      "import numpy as np\n",
      "\n",
      "class imageToClassify:\n",
      "    \n",
      "    '''\n",
      "    This class takes an image to be operated on and the member functions compute image characteristics.\n",
      "    \n",
      "    Member functions:\n",
      "    \n",
      "        imageToClassify.colors(color):\n",
      "            'color' is a string that chooses which color layer (RGB) to return and the return is an array containing the layer requested\n",
      "            \n",
      "        imageToClassify.shape():\n",
      "            Returns the shape of the image in 3 dimensions\n",
      "            \n",
      "        imageToClassify.cross_corr():\n",
      "            Returns a 3D array of cross correlations between each of the color layers in the order RG, RB, GB.\n",
      "            \n",
      "        imageToClassify.corner_det():\n",
      "            Corner detection in the image.  Returns an array of tuples with the locations of corners.\n",
      "    '''\n",
      "    \n",
      "    def __init__(self,image):\n",
      "        \n",
      "        self.image = image\n",
      "        #self.reds,self.greens,self.blues = np.empty(np.size(self.image[...,0])),np.empty(np.size(self.image[...,1])),\\\n",
      "        #    np.empty(np.size(self.image[...,2]))\n",
      "        \n",
      "    def colors(self,color):\n",
      "        \n",
      "        '''Returns the RGB layers of the image based on the color flag.  'Color' can be 'r' or 'red', 'g' or 'green',\n",
      "        'b' or 'blue'.'''\n",
      "        \n",
      "        reds = self.image[...,0]\n",
      "        greens = self.image[...,1]\n",
      "        blues = self.image[...,2]\n",
      "        \n",
      "        if color == 'red' or color == 'r':\n",
      "            return reds\n",
      "        elif color == 'g' or color == 'green':\n",
      "            return greens\n",
      "        elif color == 'b' or color == 'bue':\n",
      "            return blues\n",
      "        \n",
      "    def shape(self):\n",
      "        \n",
      "        '''Returns a tuple of the shape of the image array, in 3-dimensions.'''\n",
      "        \n",
      "        shp = np.shape(self.image)\n",
      "        return shp\n",
      "    \n",
      "    def cross_corr(self):\n",
      "        \n",
      "        '''Computes and returns the cross correlation of the three color channels as an array.'''\n",
      "        \n",
      "        import scipy.signal as sg\n",
      "        import numpy as np\n",
      "        corr_rg = sg.fftconvolve(self.image[...,0],self.image[::-1,::-1,1],mode = 'same')\n",
      "        corr_rb = sg.fftconvolve(self.image[...,0],self.image[::-1,::-1,2],mode = 'same')\n",
      "        corr_gb = sg.fftconvolve(self.image[...,1],self.image[::-1,::-1,2],mode = 'same')\n",
      "        \n",
      "        return np.ndarray([corr_rg,corr_rb,corr_gb])\n",
      "    \n",
      "    def corner_det(self):\n",
      "        \n",
      "        '''Finds corners within the image and returns the locations of the detected corners.'''\n",
      "        \n",
      "        import skimage.feature as ft\n",
      "        \n",
      "        corners = ft.corner_foerstner(self.image)\n",
      "        \n",
      "        return corners\n",
      "    \n",
      "    def "
     ],
     "language": "python",
     "metadata": {},
     "outputs": [
      {
       "output_type": "stream",
       "stream": "stdout",
       "text": [
        "Overwriting computerVisionMethods.py\n"
       ]
      }
     ],
     "prompt_number": 10
    },
    {
     "cell_type": "code",
     "collapsed": false,
     "input": [],
     "language": "python",
     "metadata": {},
     "outputs": []
    }
   ],
   "metadata": {}
  }
 ]
}