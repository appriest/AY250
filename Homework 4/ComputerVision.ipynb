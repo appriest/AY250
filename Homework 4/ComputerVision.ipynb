{
 "metadata": {
  "name": ""
 },
 "nbformat": 3,
 "nbformat_minor": 0,
 "worksheets": [
  {
   "cells": [
    {
     "cell_type": "code",
     "collapsed": false,
     "input": [
      "#%%file computerVisionMethods.py\n",
      "\n",
      "class imageToClassify:\n",
      "    \n",
      "    '''\n",
      "    This class takes an image to be operated on and the member functions compute image characteristics.\n",
      "    \n",
      "    Member functions:\n",
      "    \n",
      "        imageToClassify.colors(color):\n",
      "            'color' is a string that chooses which color layer (RGB) to return and the return is an array containing the layer requested\n",
      "            \n",
      "        imageToClassify.shape():\n",
      "            Returns the shape of the image in 3 dimensions\n",
      "            \n",
      "        imageToClassify.cross_corr():\n",
      "            Returns a 3D array of cross correlations between each of the color layers in the order RG, RB, GB.\n",
      "            \n",
      "            I am not using this feature because it was slow and would crash for 2D arrays.\n",
      "            \n",
      "        imageToClassify.corner_det():\n",
      "            Corner detection in the image.  Returns an array of tuples with the locations of corners.\n",
      "            \n",
      "        imageToClassify.extract_hog():\n",
      "            Computes the histogram of oriented gradients of the image then histograms the results.  The counts in the 0th bin are\n",
      "            taken and divided by the image size and returned.\n",
      "            \n",
      "        imageToClassify.extract_canny():\n",
      "            Applies a canny filter to find lines in the image, then sums over them and divides by the image size.\n",
      "            \n",
      "        imageToClassify.horiz_edge():\n",
      "            Finds horizontal edges then sums over new image and divides by image size.\n",
      "            \n",
      "        imageToClassify.vert_edge():\n",
      "            Finds vertical edges then sums over new image and divides by image size.\n",
      "        \n",
      "        imageToClassify.thresholding(color):\n",
      "            Sums thresholded images in red, green, blue and greyscale then divides by image size.\n",
      "        \n",
      "        imageToClassify.find_bounds():\n",
      "            Sums up boolean created by skimage.segmentation.find_boundaries() and divides by image size.\n",
      "    '''\n",
      "    \n",
      "    def __init__(self,image):\n",
      "        \n",
      "        import numpy as np\n",
      "        \n",
      "        self.image_raw = image\n",
      "        if len(np.shape(self.image_raw)) == 3:\n",
      "            self.image_flat = np.median(self.image_raw,axis=2)\n",
      "        else:\n",
      "            self.image_flat = self.image_raw\n",
      "        self.sz = 0.\n",
      "        \n",
      "    def colors(self,color):\n",
      "        \n",
      "        '''Returns the RGB layers of the image based on the color flag.  'Color' can be 'r' or 'red', 'g' or 'green',\n",
      "        'b' or 'blue'.'''\n",
      "        \n",
      "        import numpy as np\n",
      "        \n",
      "        reds = self.image_raw[...,0]\n",
      "        greens = self.image_raw[...,1]\n",
      "        blues = self.image_raw[...,2]\n",
      "        \n",
      "        if color == 'red' or color == 'r':\n",
      "            return np.mean(reds)\n",
      "        elif color == 'g' or color == 'green':\n",
      "            return np.mean(greens)\n",
      "        elif color == 'b' or color == 'bue':\n",
      "            return np.mean(blues)\n",
      "        elif color == 'flat':\n",
      "            return np.mean(self.image_flat)\n",
      "        \n",
      "    def size(self):\n",
      "        \n",
      "        '''Returns a tuple of the shape of the image array, in 3-dimensions.'''\n",
      "        \n",
      "        shp = np.shape(self.image_raw)\n",
      "        sz = 1\n",
      "        for dimsize in shp:\n",
      "            sz *= dimsize\n",
      "        self.sz = sz\n",
      "        return self.sz\n",
      "    \n",
      "    def cross_corr(self,color):\n",
      "        \n",
      "        '''Computes and returns the cross correlation of the three color channels as an array.'''\n",
      "        \n",
      "        import scipy.signal as sg\n",
      "        import numpy as np\n",
      "        \n",
      "        if len(np.shape(self.image_raw)) == 3:\n",
      "            corr = np.max(sg.fftconvolve(self.image_flat[:,:,0],self.image_flat[::-1,::-1,0],mode = 'same'))/self.sz\n",
      "        else:\n",
      "            if color == 'rg':\n",
      "                corr = np.max(sg.fftconvolve(self.image_raw[:,:,0],self.image_raw[::-1,::-1,1],mode = 'same'))/self.sz\n",
      "            elif color == 'rb':\n",
      "                corr = np.max(sg.fftconvolve(self.image_raw[:,:,0],self.image_raw[::-1,::-1,2],mode = 'same'))/self.sz\n",
      "            elif color == 'gb':\n",
      "                corr = np.max(sg.fftconvolve(self.image_raw[:,:,1],self.image_raw[::-1,::-1,2],mode = 'same'))/self.sz\n",
      "        \n",
      "        return corr\n",
      "    \n",
      "    def corner_det(self):\n",
      "        \n",
      "        '''Finds corners within the image and returns the locations of the detected corners.'''\n",
      "        \n",
      "        import skimage.feature as ft\n",
      "        \n",
      "        corners = ft.corner_foerstner(self.image_flat)\n",
      "        \n",
      "        return len(corners)\n",
      "    \n",
      "    def extract_hog(self):\n",
      "        \n",
      "        '''Returns the histogram of oriented gradients for the image.'''\n",
      "        \n",
      "        import skimage.feature as ft\n",
      "        import numpy as np\n",
      "        \n",
      "        hg = ft.hog(self.image_flat)\n",
      "        hg_hist = np.histogram(hg,bins=1000)[0][0]/self.sz\n",
      "        return hg_hist\n",
      "    \n",
      "    def extract_canny(self):\n",
      "        \n",
      "        '''Returns the number of edges as calculated with a canny filter.'''\n",
      "        \n",
      "        import skimage.filter as ft\n",
      "        \n",
      "        can = ft.canny(self.image_flat)\n",
      "        sum_can = np.sum(can)\n",
      "        \n",
      "        return sum_can\n",
      "    \n",
      "    def horiz_edge(self):\n",
      "        \n",
      "        '''Returns the sum of the horizontal edges in the image, divided by image size'''\n",
      "        \n",
      "        import skimage.filter as ft\n",
      "        \n",
      "        horiz_sobel = ft.hsobel(self.image_flat)\n",
      "        \n",
      "        return float((horiz_sobel > horiz_sobel.mean()*2).sum())/float(self.sz)\n",
      "    \n",
      "    def vert_edge(self):\n",
      "        \n",
      "        '''Returns the sum of the vertical edges in the image, divided by image size'''\n",
      "        \n",
      "        import skimage.filter as ft\n",
      "        \n",
      "        vert_sobel = ft.vsobel(self.image_flat)\n",
      "        \n",
      "        return float((vert_sobel > vert_sobel.mean()*2).sum())/float(self.sz)\n",
      "    \n",
      "    def threshholding(self,color):\n",
      "        \n",
      "        '''Thresholds the image and sums the boolean, thresholded image, then divides by the image size.'''\n",
      "        \n",
      "        import skimage.filter as ft\n",
      "        \n",
      "        if len(np.shape(self.image_raw)) == 3:\n",
      "            reds = self.image_flat\n",
      "            greens = self.image_flat\n",
      "            blues = self.image_flat\n",
      "        else:\n",
      "            reds = self.image_raw[...,0]\n",
      "            greens = self.image_raw[...,1]\n",
      "            blues = self.image_raw[...,2]\n",
      "        \n",
      "        if color == 'r':\n",
      "            return ft.threshold_adaptive(reds, 50).sum()/self.sz\n",
      "        elif color == 'g':\n",
      "            return ft.threshold_adaptive(greens, 50).sum()/self.sz\n",
      "        elif color == 'b':\n",
      "            return ft.threshold_adaptive(blues, 50).sum()/self.sz\n",
      "        elif color == 'all':\n",
      "            return ft.threshold_adaptive(self.image_flat, 100, 'mean').sum()/self.sz\n",
      "                \n",
      "        return thresh_im_sum\n",
      "    \n",
      "    def find_bounds(self):\n",
      "        \n",
      "        '''Finds the boundaries in an image then sums over them and divides by the image size.'''\n",
      "        import skimage.segmentation as sgt\n",
      "        \n",
      "        return sgt.find_boundaries(self.image_flat).sum()/self.sz\n",
      "        \n",
      "    def delete_im(self):\n",
      "        \n",
      "        '''Deletes the images stored in the object to avoid memory issues.'''\n",
      "        \n",
      "        del(self.image_raw)\n",
      "        del(self.image_flat)\n",
      "    \n",
      "# Import all the necessary modules for this project\n",
      "import os\n",
      "import os.path\n",
      "import scipy.ndimage as img\n",
      "import sklearn as skl\n",
      "from sklearn.ensemble import RandomForestClassifier\n",
      "from sklearn import metrics\n",
      "import skimage.data as skiData\n",
      "import numpy as np\n",
      "\n",
      "# initializing current path and variables needed\n",
      "path = os.getcwd()\n",
      "path += '/50_categories/'\n",
      "features = []\n",
      "i = 0\n",
      "\n",
      "# Loops through the directories holding the images and imports them, saving them in an object to be used to calculate features\n",
      "# Only the feature list and object instances (without images) are saved\n",
      "for dirs in os.listdir(path):\n",
      "    if dirs[0] != '.':\n",
      "        j = 0\n",
      "        cat_path = path + dirs +'/'\n",
      "        print 'Loading files from path:', cat_path\n",
      "        for files in os.listdir(cat_path):\n",
      "            if files[0] != '.' and os.path.isfile(cat_path+'/'+files):\n",
      "                i += 1\n",
      "                j += 1\n",
      "                if j > 15:\n",
      "                    break\n",
      "                else:\n",
      "                    im_path = cat_path + '/' + files\n",
      "                    im = skiData.imread(im_path)\n",
      "                    im_obj = imageToClassify(im)\n",
      "                    features.append([dirs,im_obj.size(),im_obj.colors('r'),im_obj.colors('g'),im_obj.colors('b'),\\\n",
      "                                     im_obj.colors('flat'),im_obj.extract_canny(),im_obj.extract_hog(),im_obj.threshholding('r'),\\\n",
      "                                     im_obj.threshholding('g'),im_obj.threshholding('b'),im_obj.threshholding('all'),\\\n",
      "                                     im_obj.corner_det(),im_obj.vert_edge(),im_obj.horiz_edge(),im_obj.find_bounds()])\n",
      "                    im_obj.delete_im()\n",
      "                \n",
      "# Choose the training set size\n",
      "trainSize = int(np.floor(0.9*np.shape(features)[0]))\n",
      "\n",
      "#Create a numpy array of the features and categories that correspond to all the images\n",
      "features_arr = np.array(features)\n",
      "\n",
      "# Shuffle the data\n",
      "np.random.shuffle(features_arr)\n",
      "\n",
      "# Create the training set\n",
      "y_train = features_arr[:trainSize,0]\n",
      "x_train = features_arr[:trainSize,1:]\n",
      "\n",
      "# Create the testing set\n",
      "x_test = features_arr[trainSize:,1:]\n",
      "y_test = features_arr[trainSize:,0]\n",
      "\n",
      "# Create a random forest classifier instance\n",
      "rf1 = RandomForestClassifier(n_estimators=50,n_jobs=-1)\n",
      "\n",
      "# Train the classifier\n",
      "rf1.fit(x_train,y_train)\n",
      "\n",
      "# Test the classifier\n",
      "c_predict = rf1.predict(x_test)\n",
      "print 'The accuracy of the classifier is: ',metrics.accuracy_score(y_test,c_predict)"
     ],
     "language": "python",
     "metadata": {},
     "outputs": [
      {
       "output_type": "stream",
       "stream": "stdout",
       "text": [
        "Loading files from path: /Users/Anders/Documents/Courses/AY 250/Homework/Homework 4/50_categories/airplanes/\n",
        "Loading files from path:"
       ]
      },
      {
       "output_type": "stream",
       "stream": "stdout",
       "text": [
        " /Users/Anders/Documents/Courses/AY 250/Homework/Homework 4/50_categories/bat/\n",
        "Loading files from path:"
       ]
      },
      {
       "output_type": "stream",
       "stream": "stdout",
       "text": [
        " /Users/Anders/Documents/Courses/AY 250/Homework/Homework 4/50_categories/bear/\n",
        "Loading files from path:"
       ]
      },
      {
       "output_type": "stream",
       "stream": "stdout",
       "text": [
        " /Users/Anders/Documents/Courses/AY 250/Homework/Homework 4/50_categories/blimp/\n",
        "Loading files from path:"
       ]
      },
      {
       "output_type": "stream",
       "stream": "stdout",
       "text": [
        " /Users/Anders/Documents/Courses/AY 250/Homework/Homework 4/50_categories/camel/\n",
        "Loading files from path:"
       ]
      },
      {
       "output_type": "stream",
       "stream": "stdout",
       "text": [
        " /Users/Anders/Documents/Courses/AY 250/Homework/Homework 4/50_categories/comet/\n",
        "Loading files from path:"
       ]
      },
      {
       "output_type": "stream",
       "stream": "stdout",
       "text": [
        " /Users/Anders/Documents/Courses/AY 250/Homework/Homework 4/50_categories/conch/\n",
        "Loading files from path:"
       ]
      },
      {
       "output_type": "stream",
       "stream": "stdout",
       "text": [
        " /Users/Anders/Documents/Courses/AY 250/Homework/Homework 4/50_categories/cormorant/\n",
        "Loading files from path:"
       ]
      },
      {
       "output_type": "stream",
       "stream": "stdout",
       "text": [
        " /Users/Anders/Documents/Courses/AY 250/Homework/Homework 4/50_categories/crab/\n",
        "Loading files from path:"
       ]
      },
      {
       "output_type": "stream",
       "stream": "stdout",
       "text": [
        " /Users/Anders/Documents/Courses/AY 250/Homework/Homework 4/50_categories/dog/\n",
        "Loading files from path:"
       ]
      },
      {
       "output_type": "stream",
       "stream": "stdout",
       "text": [
        " /Users/Anders/Documents/Courses/AY 250/Homework/Homework 4/50_categories/dolphin/\n",
        "Loading files from path:"
       ]
      },
      {
       "output_type": "stream",
       "stream": "stdout",
       "text": [
        " /Users/Anders/Documents/Courses/AY 250/Homework/Homework 4/50_categories/duck/\n",
        "Loading files from path:"
       ]
      },
      {
       "output_type": "stream",
       "stream": "stdout",
       "text": [
        " /Users/Anders/Documents/Courses/AY 250/Homework/Homework 4/50_categories/elephant/\n",
        "Loading files from path:"
       ]
      },
      {
       "output_type": "stream",
       "stream": "stdout",
       "text": [
        " /Users/Anders/Documents/Courses/AY 250/Homework/Homework 4/50_categories/elk/\n",
        "Loading files from path:"
       ]
      },
      {
       "output_type": "stream",
       "stream": "stdout",
       "text": [
        " /Users/Anders/Documents/Courses/AY 250/Homework/Homework 4/50_categories/frog/\n",
        "Loading files from path:"
       ]
      },
      {
       "output_type": "stream",
       "stream": "stdout",
       "text": [
        " /Users/Anders/Documents/Courses/AY 250/Homework/Homework 4/50_categories/galaxy/\n",
        "Loading files from path:"
       ]
      },
      {
       "output_type": "stream",
       "stream": "stdout",
       "text": [
        " /Users/Anders/Documents/Courses/AY 250/Homework/Homework 4/50_categories/giraffe/\n",
        "Loading files from path:"
       ]
      },
      {
       "output_type": "stream",
       "stream": "stdout",
       "text": [
        " /Users/Anders/Documents/Courses/AY 250/Homework/Homework 4/50_categories/goat/\n",
        "Loading files from path:"
       ]
      },
      {
       "output_type": "stream",
       "stream": "stdout",
       "text": [
        " /Users/Anders/Documents/Courses/AY 250/Homework/Homework 4/50_categories/goldfish/\n",
        "Loading files from path:"
       ]
      },
      {
       "output_type": "stream",
       "stream": "stdout",
       "text": [
        " /Users/Anders/Documents/Courses/AY 250/Homework/Homework 4/50_categories/goose/\n",
        "Loading files from path:"
       ]
      },
      {
       "output_type": "stream",
       "stream": "stdout",
       "text": [
        " /Users/Anders/Documents/Courses/AY 250/Homework/Homework 4/50_categories/gorilla/\n",
        "Loading files from path:"
       ]
      },
      {
       "output_type": "stream",
       "stream": "stdout",
       "text": [
        " /Users/Anders/Documents/Courses/AY 250/Homework/Homework 4/50_categories/helicopter/\n",
        "Loading files from path:"
       ]
      },
      {
       "output_type": "stream",
       "stream": "stdout",
       "text": [
        " /Users/Anders/Documents/Courses/AY 250/Homework/Homework 4/50_categories/horse/\n",
        "Loading files from path:"
       ]
      },
      {
       "output_type": "stream",
       "stream": "stdout",
       "text": [
        " /Users/Anders/Documents/Courses/AY 250/Homework/Homework 4/50_categories/hot-air-balloon/\n",
        "Loading files from path:"
       ]
      },
      {
       "output_type": "stream",
       "stream": "stdout",
       "text": [
        " /Users/Anders/Documents/Courses/AY 250/Homework/Homework 4/50_categories/hummingbird/\n",
        "Loading files from path:"
       ]
      },
      {
       "output_type": "stream",
       "stream": "stdout",
       "text": [
        " /Users/Anders/Documents/Courses/AY 250/Homework/Homework 4/50_categories/iguana/\n",
        "Loading files from path:"
       ]
      },
      {
       "output_type": "stream",
       "stream": "stdout",
       "text": [
        " /Users/Anders/Documents/Courses/AY 250/Homework/Homework 4/50_categories/kangaroo/\n",
        "Loading files from path:"
       ]
      },
      {
       "output_type": "stream",
       "stream": "stdout",
       "text": [
        " /Users/Anders/Documents/Courses/AY 250/Homework/Homework 4/50_categories/killer-whale/\n",
        "Loading files from path:"
       ]
      },
      {
       "output_type": "stream",
       "stream": "stdout",
       "text": [
        " /Users/Anders/Documents/Courses/AY 250/Homework/Homework 4/50_categories/leopards/\n",
        "Loading files from path:"
       ]
      },
      {
       "output_type": "stream",
       "stream": "stdout",
       "text": [
        " /Users/Anders/Documents/Courses/AY 250/Homework/Homework 4/50_categories/llama/\n",
        "Loading files from path:"
       ]
      },
      {
       "output_type": "stream",
       "stream": "stdout",
       "text": [
        " /Users/Anders/Documents/Courses/AY 250/Homework/Homework 4/50_categories/mars/\n",
        "Loading files from path:"
       ]
      },
      {
       "output_type": "stream",
       "stream": "stdout",
       "text": [
        " /Users/Anders/Documents/Courses/AY 250/Homework/Homework 4/50_categories/mussels/\n",
        "Loading files from path:"
       ]
      },
      {
       "output_type": "stream",
       "stream": "stdout",
       "text": [
        " /Users/Anders/Documents/Courses/AY 250/Homework/Homework 4/50_categories/octopus/\n",
        "Loading files from path:"
       ]
      },
      {
       "output_type": "stream",
       "stream": "stdout",
       "text": [
        " /Users/Anders/Documents/Courses/AY 250/Homework/Homework 4/50_categories/ostrich/\n",
        "Loading files from path:"
       ]
      },
      {
       "output_type": "stream",
       "stream": "stdout",
       "text": [
        " /Users/Anders/Documents/Courses/AY 250/Homework/Homework 4/50_categories/owl/\n",
        "Loading files from path:"
       ]
      },
      {
       "output_type": "stream",
       "stream": "stdout",
       "text": [
        " /Users/Anders/Documents/Courses/AY 250/Homework/Homework 4/50_categories/penguin/\n",
        "Loading files from path:"
       ]
      },
      {
       "output_type": "stream",
       "stream": "stdout",
       "text": [
        " /Users/Anders/Documents/Courses/AY 250/Homework/Homework 4/50_categories/porcupine/\n",
        "Loading files from path:"
       ]
      },
      {
       "output_type": "stream",
       "stream": "stdout",
       "text": [
        " /Users/Anders/Documents/Courses/AY 250/Homework/Homework 4/50_categories/raccoon/\n",
        "Loading files from path:"
       ]
      },
      {
       "output_type": "stream",
       "stream": "stdout",
       "text": [
        " /Users/Anders/Documents/Courses/AY 250/Homework/Homework 4/50_categories/saturn/\n",
        "Loading files from path:"
       ]
      },
      {
       "output_type": "stream",
       "stream": "stdout",
       "text": [
        " /Users/Anders/Documents/Courses/AY 250/Homework/Homework 4/50_categories/skunk/\n",
        "Loading files from path:"
       ]
      },
      {
       "output_type": "stream",
       "stream": "stdout",
       "text": [
        " /Users/Anders/Documents/Courses/AY 250/Homework/Homework 4/50_categories/snail/\n",
        "Loading files from path:"
       ]
      },
      {
       "output_type": "stream",
       "stream": "stdout",
       "text": [
        " /Users/Anders/Documents/Courses/AY 250/Homework/Homework 4/50_categories/snake/\n",
        "Loading files from path:"
       ]
      },
      {
       "output_type": "stream",
       "stream": "stdout",
       "text": [
        " /Users/Anders/Documents/Courses/AY 250/Homework/Homework 4/50_categories/speed-boat/\n",
        "Loading files from path:"
       ]
      },
      {
       "output_type": "stream",
       "stream": "stdout",
       "text": [
        " /Users/Anders/Documents/Courses/AY 250/Homework/Homework 4/50_categories/starfish/\n",
        "Loading files from path:"
       ]
      },
      {
       "output_type": "stream",
       "stream": "stdout",
       "text": [
        " /Users/Anders/Documents/Courses/AY 250/Homework/Homework 4/50_categories/swan/\n",
        "Loading files from path:"
       ]
      },
      {
       "output_type": "stream",
       "stream": "stdout",
       "text": [
        " /Users/Anders/Documents/Courses/AY 250/Homework/Homework 4/50_categories/teddy-bear/\n",
        "Loading files from path:"
       ]
      },
      {
       "output_type": "stream",
       "stream": "stdout",
       "text": [
        " /Users/Anders/Documents/Courses/AY 250/Homework/Homework 4/50_categories/toad/\n",
        "Loading files from path:"
       ]
      },
      {
       "output_type": "stream",
       "stream": "stdout",
       "text": [
        " /Users/Anders/Documents/Courses/AY 250/Homework/Homework 4/50_categories/triceratops/\n",
        "Loading files from path:"
       ]
      },
      {
       "output_type": "stream",
       "stream": "stdout",
       "text": [
        " /Users/Anders/Documents/Courses/AY 250/Homework/Homework 4/50_categories/unicorn/\n",
        "Loading files from path:"
       ]
      },
      {
       "output_type": "stream",
       "stream": "stdout",
       "text": [
        " /Users/Anders/Documents/Courses/AY 250/Homework/Homework 4/50_categories/zebra/\n"
       ]
      },
      {
       "output_type": "stream",
       "stream": "stdout",
       "text": [
        "The accuracy of the classifier is:  0.0666666666667\n"
       ]
      }
     ],
     "prompt_number": 74
    },
    {
     "cell_type": "code",
     "collapsed": false,
     "input": [
      "import pickle\n",
      "\n",
      "forest = pickle.dumps(rf1)"
     ],
     "language": "python",
     "metadata": {},
     "outputs": [],
     "prompt_number": 76
    },
    {
     "cell_type": "code",
     "collapsed": false,
     "input": [
      "def runFinalClassifier(path):\n",
      "    \n",
      "    import pickle\n",
      "    import skimage as ski\n",
      "    \n",
      "    clf = pickle.loads(forest)\n",
      "    \n",
      "    for files in os.listdir(path):\n",
      "        \n",
      "        im = ski.imread(path+'/'+files)\n",
      "        im_obj = imageToClassify(im)\n",
      "        features.append([file,im_obj.size(),im_obj.colors('r'),im_obj.colors('g'),im_obj.colors('b'),\\\n",
      "                            im_obj.colors('flat'),im_obj.extract_canny(),im_obj.extract_hog(),im_obj.threshholding('r'),\\\n",
      "                            im_obj.threshholding('g'),im_obj.threshholding('b'),im_obj.threshholding('all'),\\\n",
      "                            im_obj.corner_det(),im_obj.vert_edge(),im_obj.horiz_edge(),im_obj.find_bounds()])\n",
      "    predictions = clf.predict(features[1:])\n",
      "    \n",
      "    print 'filename\\t\\tpredicted_class\\n'\n",
      "    print '-'*50\n",
      "        \n",
      "    for i,predict in enumerate(predictions):\n",
      "        print features[0,i],'\\t\\t',predictions[i]"
     ],
     "language": "python",
     "metadata": {},
     "outputs": [],
     "prompt_number": 77
    },
    {
     "cell_type": "code",
     "collapsed": false,
     "input": [
      "runFinalClassifier('/Users/Anders/Documents/Courses/AY 250/Homework/Homework 4/50_categories/airplanes')"
     ],
     "language": "python",
     "metadata": {},
     "outputs": [
      {
       "ename": "AttributeError",
       "evalue": "'module' object has no attribute 'imread'",
       "output_type": "pyerr",
       "traceback": [
        "\u001b[0;31m---------------------------------------------------------------------------\u001b[0m\n\u001b[0;31mAttributeError\u001b[0m                            Traceback (most recent call last)",
        "\u001b[0;32m<ipython-input-78-a395c6c772b5>\u001b[0m in \u001b[0;36m<module>\u001b[0;34m()\u001b[0m\n\u001b[0;32m----> 1\u001b[0;31m \u001b[0mrunFinalClassifier\u001b[0m\u001b[0;34m(\u001b[0m\u001b[0;34m'/Users/Anders/Documents/Courses/AY 250/Homework/Homework 4/50_categories/airplanes'\u001b[0m\u001b[0;34m)\u001b[0m\u001b[0;34m\u001b[0m\u001b[0m\n\u001b[0m",
        "\u001b[0;32m<ipython-input-77-48754d17a50b>\u001b[0m in \u001b[0;36mrunFinalClassifier\u001b[0;34m(path)\u001b[0m\n\u001b[1;32m      8\u001b[0m     \u001b[0;32mfor\u001b[0m \u001b[0mfiles\u001b[0m \u001b[0;32min\u001b[0m \u001b[0mos\u001b[0m\u001b[0;34m.\u001b[0m\u001b[0mlistdir\u001b[0m\u001b[0;34m(\u001b[0m\u001b[0mpath\u001b[0m\u001b[0;34m)\u001b[0m\u001b[0;34m:\u001b[0m\u001b[0;34m\u001b[0m\u001b[0m\n\u001b[1;32m      9\u001b[0m \u001b[0;34m\u001b[0m\u001b[0m\n\u001b[0;32m---> 10\u001b[0;31m         \u001b[0mim\u001b[0m \u001b[0;34m=\u001b[0m \u001b[0mski\u001b[0m\u001b[0;34m.\u001b[0m\u001b[0mimread\u001b[0m\u001b[0;34m(\u001b[0m\u001b[0mpath\u001b[0m\u001b[0;34m+\u001b[0m\u001b[0;34m'/'\u001b[0m\u001b[0;34m+\u001b[0m\u001b[0mfiles\u001b[0m\u001b[0;34m)\u001b[0m\u001b[0;34m\u001b[0m\u001b[0m\n\u001b[0m\u001b[1;32m     11\u001b[0m         \u001b[0mim_obj\u001b[0m \u001b[0;34m=\u001b[0m \u001b[0mimageToClassify\u001b[0m\u001b[0;34m(\u001b[0m\u001b[0mim\u001b[0m\u001b[0;34m)\u001b[0m\u001b[0;34m\u001b[0m\u001b[0m\n\u001b[1;32m     12\u001b[0m         \u001b[0mfeatures\u001b[0m\u001b[0;34m.\u001b[0m\u001b[0mappend\u001b[0m\u001b[0;34m(\u001b[0m\u001b[0;34m[\u001b[0m\u001b[0mfile\u001b[0m\u001b[0;34m,\u001b[0m\u001b[0mim_obj\u001b[0m\u001b[0;34m.\u001b[0m\u001b[0msize\u001b[0m\u001b[0;34m(\u001b[0m\u001b[0;34m)\u001b[0m\u001b[0;34m,\u001b[0m\u001b[0mim_obj\u001b[0m\u001b[0;34m.\u001b[0m\u001b[0mcolors\u001b[0m\u001b[0;34m(\u001b[0m\u001b[0;34m'r'\u001b[0m\u001b[0;34m)\u001b[0m\u001b[0;34m,\u001b[0m\u001b[0mim_obj\u001b[0m\u001b[0;34m.\u001b[0m\u001b[0mcolors\u001b[0m\u001b[0;34m(\u001b[0m\u001b[0;34m'g'\u001b[0m\u001b[0;34m)\u001b[0m\u001b[0;34m,\u001b[0m\u001b[0mim_obj\u001b[0m\u001b[0;34m.\u001b[0m\u001b[0mcolors\u001b[0m\u001b[0;34m(\u001b[0m\u001b[0;34m'b'\u001b[0m\u001b[0;34m)\u001b[0m\u001b[0;34m,\u001b[0m                            \u001b[0mim_obj\u001b[0m\u001b[0;34m.\u001b[0m\u001b[0mcolors\u001b[0m\u001b[0;34m(\u001b[0m\u001b[0;34m'flat'\u001b[0m\u001b[0;34m)\u001b[0m\u001b[0;34m,\u001b[0m\u001b[0mim_obj\u001b[0m\u001b[0;34m.\u001b[0m\u001b[0mextract_canny\u001b[0m\u001b[0;34m(\u001b[0m\u001b[0;34m)\u001b[0m\u001b[0;34m,\u001b[0m\u001b[0mim_obj\u001b[0m\u001b[0;34m.\u001b[0m\u001b[0mextract_hog\u001b[0m\u001b[0;34m(\u001b[0m\u001b[0;34m)\u001b[0m\u001b[0;34m,\u001b[0m\u001b[0mim_obj\u001b[0m\u001b[0;34m.\u001b[0m\u001b[0mthreshholding\u001b[0m\u001b[0;34m(\u001b[0m\u001b[0;34m'r'\u001b[0m\u001b[0;34m)\u001b[0m\u001b[0;34m,\u001b[0m                            \u001b[0mim_obj\u001b[0m\u001b[0;34m.\u001b[0m\u001b[0mthreshholding\u001b[0m\u001b[0;34m(\u001b[0m\u001b[0;34m'g'\u001b[0m\u001b[0;34m)\u001b[0m\u001b[0;34m,\u001b[0m\u001b[0mim_obj\u001b[0m\u001b[0;34m.\u001b[0m\u001b[0mthreshholding\u001b[0m\u001b[0;34m(\u001b[0m\u001b[0;34m'b'\u001b[0m\u001b[0;34m)\u001b[0m\u001b[0;34m,\u001b[0m\u001b[0mim_obj\u001b[0m\u001b[0;34m.\u001b[0m\u001b[0mthreshholding\u001b[0m\u001b[0;34m(\u001b[0m\u001b[0;34m'all'\u001b[0m\u001b[0;34m)\u001b[0m\u001b[0;34m,\u001b[0m                            \u001b[0mim_obj\u001b[0m\u001b[0;34m.\u001b[0m\u001b[0mcorner_det\u001b[0m\u001b[0;34m(\u001b[0m\u001b[0;34m)\u001b[0m\u001b[0;34m,\u001b[0m\u001b[0mim_obj\u001b[0m\u001b[0;34m.\u001b[0m\u001b[0mvert_edge\u001b[0m\u001b[0;34m(\u001b[0m\u001b[0;34m)\u001b[0m\u001b[0;34m,\u001b[0m\u001b[0mim_obj\u001b[0m\u001b[0;34m.\u001b[0m\u001b[0mhoriz_edge\u001b[0m\u001b[0;34m(\u001b[0m\u001b[0;34m)\u001b[0m\u001b[0;34m,\u001b[0m\u001b[0mim_obj\u001b[0m\u001b[0;34m.\u001b[0m\u001b[0mfind_bounds\u001b[0m\u001b[0;34m(\u001b[0m\u001b[0;34m)\u001b[0m\u001b[0;34m]\u001b[0m\u001b[0;34m)\u001b[0m\u001b[0;34m\u001b[0m\u001b[0m\n",
        "\u001b[0;31mAttributeError\u001b[0m: 'module' object has no attribute 'imread'"
       ]
      }
     ],
     "prompt_number": 78
    },
    {
     "cell_type": "code",
     "collapsed": false,
     "input": [],
     "language": "python",
     "metadata": {},
     "outputs": []
    }
   ],
   "metadata": {}
  }
 ]
}