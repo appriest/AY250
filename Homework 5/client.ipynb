{
 "metadata": {
  "name": ""
 },
 "nbformat": 3,
 "nbformat_minor": 0,
 "worksheets": [
  {
   "cells": [
    {
     "cell_type": "code",
     "collapsed": false,
     "input": [
      "import xmlrpclib, sys\n",
      "import numpy as np\n",
      "import scipy.ndimage as img\n",
      "import matplotlib.pyplot as plt\n",
      "\n",
      "im_raw = img.imread('unicorn_0006.jpg')\n",
      "im_list = im_raw.tolist()\n",
      "print type(im_list)\n",
      "print type(im_raw)\n",
      "plt.imshow(np.array(im_list))\n",
      "plt.show()\n",
      "host, port = \"\", 5021\n",
      "server = xmlrpclib.ServerProxy(\"http://%s:%d\" % (host, port))"
     ],
     "language": "python",
     "metadata": {},
     "outputs": [
      {
       "output_type": "stream",
       "stream": "stdout",
       "text": [
        "<type 'list'>\n",
        "<type 'numpy.ndarray'>\n"
       ]
      }
     ],
     "prompt_number": 22
    },
    {
     "cell_type": "code",
     "collapsed": false,
     "input": [
      "result = server.im_manipulation1(im_list)\n",
      "result = np.array(result)\n",
      "plt.imshow(result)\n",
      "plt.show()"
     ],
     "language": "python",
     "metadata": {},
     "outputs": [],
     "prompt_number": 23
    },
    {
     "cell_type": "code",
     "collapsed": false,
     "input": [
      "result = server.im_manipulation2(im_list)\n",
      "plt.imshow(result)"
     ],
     "language": "python",
     "metadata": {},
     "outputs": [
      {
       "metadata": {},
       "output_type": "pyout",
       "prompt_number": 3,
       "text": [
        "<matplotlib.image.AxesImage at 0x108a13690>"
       ]
      }
     ],
     "prompt_number": 3
    },
    {
     "cell_type": "code",
     "collapsed": false,
     "input": [
      "plt.show()"
     ],
     "language": "python",
     "metadata": {},
     "outputs": [],
     "prompt_number": 4
    },
    {
     "cell_type": "code",
     "collapsed": false,
     "input": [
      "result = server.im_manipulation3(im_list)\n",
      "plt.imshow(result)"
     ],
     "language": "python",
     "metadata": {},
     "outputs": []
    }
   ],
   "metadata": {}
  }
 ]
}