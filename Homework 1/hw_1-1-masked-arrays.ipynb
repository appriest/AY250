{
 "metadata": {
  "name": ""
 },
 "nbformat": 3,
 "nbformat_minor": 0,
 "worksheets": [
  {
   "cells": [
    {
     "cell_type": "markdown",
     "metadata": {},
     "source": [
      "## Due Wednesday Sept 11, 2013 @ 5pm ##\n",
      "\n",
      "Send us an email `ucbpythonclass+seminar@gmail.com` (with a tarball of notebook/code/files)\n",
      "\n",
      "## 0-1  Fun with Masked Arrays ##\n",
      "\n",
      "`Numpy` masked arrays provide a way to keep track of elements that are considered \"missing\" or \"bad\". This is extremely useful when performing statistics on such arrays---masked elements should not be included in determining, for example the mean.  Masked arrays are really helpful when combining images too that have known regions of bad or bogus data.\n",
      "\n",
      "Check out the masked array methods and functions here:\n",
      "  http://docs.scipy.org/doc/numpy/reference/routines.ma.html"
     ]
    },
    {
     "cell_type": "markdown",
     "metadata": {},
     "source": [
      "In this exercise you'll use masked arrays to find a hidden word by combining a series of images. Here's two of them (`im1-a.png`):\n",
      "<center>\n",
      "<img src=\"files/hw_0_data/im1-a.png\" width=20%/> &nbsp; <img src=\"files/hw_0_data/im1-b.png\" width=20%/>\n",
      "</center>"
     ]
    },
    {
     "cell_type": "markdown",
     "metadata": {},
     "source": [
      "The black dot and the hidden word are fixed with respect to each other but the light grey area hides a different part of the word in each image. You'll notice that the black dot has moved in each image.\n",
      "\n",
      "A tarball for this question and the next is at:\n",
      "\n",
      "https://www.dropbox.com/s/0clmmvwkoy000d4/homework1_data.tgz"
     ]
    },
    {
     "cell_type": "markdown",
     "metadata": {},
     "source": [
      "1) Using `numpy` tools, find the location of the center of the black dot in all five images (`im1-a.png` through `im1-e.png`) and report those locations as a list of 5 tuples. Note: if you want to display the images you can do something like (in IPython):\n",
      "\n",
      "```python\n",
      "%pylab inline\n",
      "from scipy.ndimage import imread\n",
      "im=imread(\"im1.png\",flatten=True)\n",
      "imshow(im,cmap=cm.Greys)\n",
      "```"
     ]
    },
    {
     "cell_type": "markdown",
     "metadata": {},
     "source": [
      "2) Using the location of the black dot in the first image, find the offset of the other images with respect to the first image. Using `scipy.ndimage.interpolation.shift` perform a shift on the other four images such that they are \"registered\" (aligned) with the first image. That is, make sure that the black dots are all in the same x,y location in the transformed images. Keep those images in `numpy` arrays (for the next part) but also save those images as `.png` files, appropriately named (`im1-b-shift.png`, `im1-c-shift.png`, etc.). Note: you'll need to think a bit about how you treat the edges in the `shift` operation."
     ]
    },
    {
     "cell_type": "markdown",
     "metadata": {},
     "source": [
      "3) Mask out the registered images by finding an appropriate `mask` for the grey-level regions making 5 new masked arrays like:\n",
      "```python\n",
      "new_masked_a = ma.masked_array(ima,mask=mask)\n",
      "```\n",
      "Combine the masked arrays using `np.ma.median` to reveal the hidden message."
     ]
    },
    {
     "cell_type": "code",
     "collapsed": false,
     "input": [
      "%%bash\n",
      "pwd"
     ],
     "language": "python",
     "metadata": {},
     "outputs": [
      {
       "output_type": "stream",
       "stream": "stdout",
       "text": [
        "/Users/Anders/python-seminar/Homeworks\n"
       ]
      }
     ],
     "prompt_number": 12
    },
    {
     "cell_type": "code",
     "collapsed": false,
     "input": [
      "#(c) Python Seminar UC Berkeley 2013\n",
      "__author__ = \"Anders Priest\"\n",
      "__email__ = \"a_priest@berkeley.edu\"\n",
      "\n",
      "import scipy.ndimage as image\n",
      "import numpy as np\n",
      "%pylab inline\n",
      "from scipy import misc\n",
      "from scipy.ndimage import imread\n",
      "from scipy.ndimage.interpolation import shift\n",
      "\n",
      "letter = ['a','b','c','d','e']\n",
      "minloc = list()\n",
      "im = np.empty([288,288,5])\n",
      "imshift = np.empty([288,288,5])\n",
      "\n",
      "for i,lett in enumerate(letter):\n",
      "    f = 'im1-'+lett+'.png'\n",
      "    im[:,:,i] = imread(f,flatten = True)\n",
      "    minloc.append(tuple(np.unravel_index(np.argmin(im[:,:,i]), shape(im[:,:,i]))))\n",
      "    if(i>0):\n",
      "        d = subtract(minloc[0],minloc[i])\n",
      "        imshift[:,:,i] = shift(im[:,:,i],d,mode = 'nearest')\n",
      "        fshift = 'im1-'+lett+'-shift.png'\n",
      "        misc.imsave(fshift,imshift[:,:,i])\n",
      "\n",
      "maxloc = np.unravel_index(np.argmax(im), shape(im))\n",
      "masked_im = ma.masked_less(imshift,im[maxloc]-50)\n",
      "secret_message = np.ma.median(masked_im,axis=2)\n",
      "imshow(secret_message,cm.gray_r)"
     ],
     "language": "python",
     "metadata": {},
     "outputs": [
      {
       "output_type": "stream",
       "stream": "stdout",
       "text": [
        "Populating the interactive namespace from numpy and matplotlib\n"
       ]
      },
      {
       "output_type": "stream",
       "stream": "stderr",
       "text": [
        "WARNING: pylab import has clobbered these variables: ['f', 'imread']\n",
        "`%pylab --no-import-all` prevents importing * from pylab and numpy\n"
       ]
      },
      {
       "metadata": {},
       "output_type": "pyout",
       "prompt_number": 197,
       "text": [
        "<matplotlib.image.AxesImage at 0x107dd2b50>"
       ]
      },
      {
       "metadata": {},
       "output_type": "display_data",
       "png": "[encoded data removed]",
       "text": [
        "<matplotlib.figure.Figure at 0x10d5b3a50>"
       ]
      }
     ],
     "prompt_number": 197
    },
    {
     "cell_type": "code",
     "collapsed": false,
     "input": [],
     "language": "python",
     "metadata": {},
     "outputs": []
    }
   ],
   "metadata": {}
  }
 ]
}